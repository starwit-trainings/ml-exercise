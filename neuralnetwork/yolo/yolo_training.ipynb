{
 "cells": [
  {
   "cell_type": "markdown",
   "id": "817d6302",
   "metadata": {},
   "source": [
    "# Training Detection Models\n",
    "This notebook shall give you an idea, how to train AI models. As this is a vast topic, this is just a very brief introduction.  "
   ]
  },
  {
   "cell_type": "markdown",
   "id": "c7abd9ec",
   "metadata": {},
   "source": [
    "## Pre-requisites\n",
    "One of the challenges in AI models is the necessary (huge amount of) training data. Depending on used model architecture training data come in various forms. For object detection the situation is insofar simple, as anything your model is supposed to detect, needs to be trained with labeled data."
   ]
  },
  {
   "cell_type": "markdown",
   "id": "a6c0a302",
   "metadata": {},
   "source": [
    "## Example\n",
    "In this example, we will download a pre-labeled data set that contains data to detect wheat. Please note, that training takes an huge amount of compuation resources. Overall training duration also heavily depends on your hardware setup. GPUs will vastly accelerate computation time.\n",
    "\n",
    "Following code, downloads data set and starts (re-) training an object detection model. Result will be a model, that can detect wheat. Note, that this is _not_ training a new model from scratch - this would even more compuation resources as well parameter tuning."
   ]
  },
  {
   "cell_type": "code",
   "execution_count": null,
   "id": "13159737",
   "metadata": {},
   "outputs": [],
   "source": [
    "from ultralytics import YOLO\n",
    "\n",
    "# Load a model\n",
    "model = YOLO(\"yolo11n.pt\")  # load a pretrained model (recommended for training)\n",
    "\n",
    "# Train the model\n",
    "results = model.train(data=\"GlobalWheat2020.yaml\", epochs=80, imgsz=640)"
   ]
  },
  {
   "cell_type": "markdown",
   "id": "158414ff",
   "metadata": {},
   "source": [
    "## Exercises\n",
    "* Run training\n",
    "* Use custom model on images of wheat"
   ]
  }
 ],
 "metadata": {
  "kernelspec": {
   "display_name": ".venv",
   "language": "python",
   "name": "python3"
  },
  "language_info": {
   "codemirror_mode": {
    "name": "ipython",
    "version": 3
   },
   "file_extension": ".py",
   "mimetype": "text/x-python",
   "name": "python",
   "nbconvert_exporter": "python",
   "pygments_lexer": "ipython3",
   "version": "3.12.7"
  }
 },
 "nbformat": 4,
 "nbformat_minor": 5
}
